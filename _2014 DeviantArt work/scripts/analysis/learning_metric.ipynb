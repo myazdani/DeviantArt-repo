{
 "metadata": {
  "name": ""
 },
 "nbformat": 3,
 "nbformat_minor": 0,
 "worksheets": [
  {
   "cells": [
    {
     "cell_type": "code",
     "collapsed": false,
     "input": [
      "from cvxpy import *\n",
      "import numpy\n",
      "import csv"
     ],
     "language": "python",
     "metadata": {},
     "outputs": [],
     "prompt_number": 76
    },
    {
     "cell_type": "heading",
     "level": 1,
     "metadata": {},
     "source": [
      "CVX Example"
     ]
    },
    {
     "cell_type": "code",
     "collapsed": false,
     "input": [
      "# Problem data.\n",
      "m = 30\n",
      "n = 20\n",
      "numpy.random.seed(1)\n",
      "A = numpy.random.randn(m, n)\n",
      "b = numpy.random.randn(m)"
     ],
     "language": "python",
     "metadata": {},
     "outputs": [],
     "prompt_number": 77
    },
    {
     "cell_type": "code",
     "collapsed": false,
     "input": [
      "# Construct the problem.\n",
      "x = Variable(n)\n",
      "objective = Minimize(sum_squares(A*x - b))\n",
      "constraints = [0 <= x, x <= 1]\n",
      "prob = Problem(objective, constraints)\n",
      "\n",
      "# The optimal objective is returned by prob.solve().\n",
      "result = prob.solve()"
     ],
     "language": "python",
     "metadata": {},
     "outputs": [],
     "prompt_number": 78
    },
    {
     "cell_type": "code",
     "collapsed": false,
     "input": [
      "# The optimal value for x is stored in x.value.\n",
      "print x.value\n",
      "# The optimal Lagrange multiplier for a constraint\n",
      "# is stored in constraint.dual_value.\n",
      "# print constraints[0].dual_value"
     ],
     "language": "python",
     "metadata": {},
     "outputs": [
      {
       "output_type": "stream",
       "stream": "stdout",
       "text": [
        "[[  9.14195738e-10]\n",
        " [  2.85108669e-02]\n",
        " [  8.10697153e-10]\n",
        " [  1.35476228e-09]\n",
        " [ -3.51539201e-11]\n",
        " [  1.49285014e-01]\n",
        " [  3.73516740e-09]\n",
        " [  6.49235628e-10]\n",
        " [  2.46718503e-01]\n",
        " [  5.78224051e-01]\n",
        " [  5.52340351e-11]\n",
        " [  1.01218158e-03]\n",
        " [  1.78956653e-10]\n",
        " [  2.26767396e-01]\n",
        " [  3.89235476e-10]\n",
        " [  6.64245316e-10]\n",
        " [  1.13826506e-09]\n",
        " [  4.02621917e-11]\n",
        " [  7.20238328e-10]\n",
        " [  7.03799189e-11]]\n"
       ]
      }
     ],
     "prompt_number": 79
    },
    {
     "cell_type": "heading",
     "level": 1,
     "metadata": {},
     "source": [
      "DeviantArt Example"
     ]
    },
    {
     "cell_type": "code",
     "collapsed": false,
     "input": [
      "# load data\n",
      "def return_rows(filename, file_encoding = 'rU'):\n",
      "  with open(filename, file_encoding) as f: \n",
      "    reader = csv.reader(f)\n",
      "    rowsInData = [row for row in reader]\n",
      "  return rowsInData  "
     ],
     "language": "python",
     "metadata": {},
     "outputs": [],
     "prompt_number": 89
    },
    {
     "cell_type": "code",
     "collapsed": false,
     "input": [
      "file_path = \"../../processedData/pairs_features/H_full_hist_pairs.csv\"\n",
      "\n",
      "rows = return_rows(file_path)"
     ],
     "language": "python",
     "metadata": {},
     "outputs": [],
     "prompt_number": 187
    },
    {
     "cell_type": "code",
     "collapsed": false,
     "input": [
      "rows[0][3:-1]"
     ],
     "language": "python",
     "metadata": {},
     "outputs": [
      {
       "metadata": {},
       "output_type": "pyout",
       "prompt_number": 189,
       "text": [
        "['H1',\n",
        " 'H2',\n",
        " 'H3',\n",
        " 'H4',\n",
        " 'H5',\n",
        " 'H6',\n",
        " 'H7',\n",
        " 'H8',\n",
        " 'H9',\n",
        " 'H10',\n",
        " 'H11',\n",
        " 'H12',\n",
        " 'H13',\n",
        " 'H14',\n",
        " 'H15',\n",
        " 'H16',\n",
        " 'H17',\n",
        " 'H18',\n",
        " 'H19',\n",
        " 'H20',\n",
        " 'H21',\n",
        " 'H22',\n",
        " 'H23',\n",
        " 'H24',\n",
        " 'H25',\n",
        " 'H26',\n",
        " 'H27',\n",
        " 'H28',\n",
        " 'H29',\n",
        " 'H30',\n",
        " 'H31',\n",
        " 'H32',\n",
        " 'H33',\n",
        " 'H34',\n",
        " 'H35',\n",
        " 'H36',\n",
        " 'H37',\n",
        " 'H38',\n",
        " 'H39',\n",
        " 'H40',\n",
        " 'H41',\n",
        " 'H42',\n",
        " 'H43',\n",
        " 'H44',\n",
        " 'H45',\n",
        " 'H46',\n",
        " 'H47',\n",
        " 'H48',\n",
        " 'H49',\n",
        " 'H50',\n",
        " 'H51',\n",
        " 'H52',\n",
        " 'H53',\n",
        " 'H54',\n",
        " 'H55',\n",
        " 'H56',\n",
        " 'H57',\n",
        " 'H58',\n",
        " 'H59',\n",
        " 'H60',\n",
        " 'H61',\n",
        " 'H62',\n",
        " 'H63',\n",
        " 'H64',\n",
        " 'H65',\n",
        " 'H66',\n",
        " 'H67',\n",
        " 'H68',\n",
        " 'H69',\n",
        " 'H70',\n",
        " 'H71',\n",
        " 'H72',\n",
        " 'H73',\n",
        " 'H74',\n",
        " 'H75',\n",
        " 'H76',\n",
        " 'H77',\n",
        " 'H78',\n",
        " 'H79',\n",
        " 'H80',\n",
        " 'H81',\n",
        " 'H82',\n",
        " 'H83',\n",
        " 'H84',\n",
        " 'H85',\n",
        " 'H86',\n",
        " 'H87',\n",
        " 'H88',\n",
        " 'H89',\n",
        " 'H90',\n",
        " 'H91',\n",
        " 'H92',\n",
        " 'H93',\n",
        " 'H94',\n",
        " 'H95',\n",
        " 'H96',\n",
        " 'H97',\n",
        " 'H98',\n",
        " 'H99',\n",
        " 'H100',\n",
        " 'H101',\n",
        " 'H102',\n",
        " 'H103',\n",
        " 'H104',\n",
        " 'H105',\n",
        " 'H106',\n",
        " 'H107',\n",
        " 'H108',\n",
        " 'H109',\n",
        " 'H110',\n",
        " 'H111',\n",
        " 'H112',\n",
        " 'H113',\n",
        " 'H114',\n",
        " 'H115',\n",
        " 'H116',\n",
        " 'H117',\n",
        " 'H118',\n",
        " 'H119',\n",
        " 'H120',\n",
        " 'H121',\n",
        " 'H122',\n",
        " 'H123',\n",
        " 'H124',\n",
        " 'H125',\n",
        " 'H126',\n",
        " 'H127',\n",
        " 'H128',\n",
        " 'H129',\n",
        " 'H130',\n",
        " 'H131',\n",
        " 'H132',\n",
        " 'H133',\n",
        " 'H134',\n",
        " 'H135',\n",
        " 'H136',\n",
        " 'H137',\n",
        " 'H138',\n",
        " 'H139',\n",
        " 'H140',\n",
        " 'H141',\n",
        " 'H142',\n",
        " 'H143',\n",
        " 'H144',\n",
        " 'H145',\n",
        " 'H146',\n",
        " 'H147',\n",
        " 'H148',\n",
        " 'H149',\n",
        " 'H150',\n",
        " 'H151',\n",
        " 'H152',\n",
        " 'H153',\n",
        " 'H154',\n",
        " 'H155',\n",
        " 'H156',\n",
        " 'H157',\n",
        " 'H158',\n",
        " 'H159',\n",
        " 'H160',\n",
        " 'H161',\n",
        " 'H162',\n",
        " 'H163',\n",
        " 'H164',\n",
        " 'H165',\n",
        " 'H166',\n",
        " 'H167',\n",
        " 'H168',\n",
        " 'H169',\n",
        " 'H170',\n",
        " 'H171',\n",
        " 'H172',\n",
        " 'H173',\n",
        " 'H174',\n",
        " 'H175',\n",
        " 'H176',\n",
        " 'H177',\n",
        " 'H178',\n",
        " 'H179',\n",
        " 'H180']"
       ]
      }
     ],
     "prompt_number": 189
    },
    {
     "cell_type": "code",
     "collapsed": false,
     "input": [
      "# construct \"A\" matrix\n",
      "#A = numpy.array([numpy.double(r[3:11]) for r in rows[1:] if r[0] == \"Digital Art\"])\n",
      "A = numpy.array([numpy.double(r[3:-1]) for r in rows[1:]])"
     ],
     "language": "python",
     "metadata": {},
     "outputs": [],
     "prompt_number": 190
    },
    {
     "cell_type": "code",
     "collapsed": false,
     "input": [
      "# construct \"b\" matrix\n",
      "#b = numpy.array([numpy.double(r[-1]) for r in rows[1:] if r[0] == \"Digital Art\"])\n",
      "b = numpy.array([numpy.double(r[-1]) for r in rows[1:]])"
     ],
     "language": "python",
     "metadata": {},
     "outputs": [],
     "prompt_number": 191
    },
    {
     "cell_type": "code",
     "collapsed": false,
     "input": [
      "n = A.shape[1]\n",
      "A.shape"
     ],
     "language": "python",
     "metadata": {},
     "outputs": [
      {
       "metadata": {},
       "output_type": "pyout",
       "prompt_number": 193,
       "text": [
        "(90, 180)"
       ]
      }
     ],
     "prompt_number": 193
    },
    {
     "cell_type": "code",
     "collapsed": false,
     "input": [
      "# Construct the problem.\n",
      "x = Variable(n)\n",
      "objective = Minimize(sum_squares(A*x - b) + .01 * norm(x, 1))\n",
      "constraints = [0 <= x]\n",
      "prob = Problem(objective, constraints)\n",
      "\n",
      "# The optimal objective is returned by prob.solve().\n",
      "result = prob.solve()"
     ],
     "language": "python",
     "metadata": {},
     "outputs": [],
     "prompt_number": 246
    },
    {
     "cell_type": "code",
     "collapsed": false,
     "input": [
      "print type(x.value)"
     ],
     "language": "python",
     "metadata": {},
     "outputs": [
      {
       "output_type": "stream",
       "stream": "stdout",
       "text": [
        "<class 'numpy.matrixlib.defmatrix.matrix'>\n"
       ]
      }
     ],
     "prompt_number": 249
    },
    {
     "cell_type": "code",
     "collapsed": false,
     "input": [
      "weights = list(x.value)\n",
      "type(weights[0])"
     ],
     "language": "python",
     "metadata": {},
     "outputs": [
      {
       "metadata": {},
       "output_type": "pyout",
       "prompt_number": 256,
       "text": [
        "numpy.matrixlib.defmatrix.matrix"
       ]
      }
     ],
     "prompt_number": 256
    },
    {
     "cell_type": "code",
     "collapsed": false,
     "input": [
      "with open(\"../../processedData/weighting_full_hists_hue.csv\", \"w\") as f:\n",
      "    a = csv.writer(f, delimiter = \",\")\n",
      "    for w in weights:\n",
      "        a.writerow(w)"
     ],
     "language": "python",
     "metadata": {},
     "outputs": [],
     "prompt_number": 253
    },
    {
     "cell_type": "code",
     "collapsed": false,
     "input": [
      "numpy.savetxt(\"../../processedData/weighting_full_hists_hue.csv\", weights, delimiter = \",\")"
     ],
     "language": "python",
     "metadata": {},
     "outputs": [],
     "prompt_number": 257
    },
    {
     "cell_type": "code",
     "collapsed": false,
     "input": [],
     "language": "python",
     "metadata": {},
     "outputs": []
    }
   ],
   "metadata": {}
  }
 ]
}